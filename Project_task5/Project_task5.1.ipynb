{
 "cells": [
  {
   "cell_type": "code",
   "execution_count": 1,
   "metadata": {},
   "outputs": [
    {
     "name": "stdout",
     "output_type": "stream",
     "text": [
      "Requirement already satisfied: pillow in c:\\users\\91967\\anaconda3\\lib\\site-packages (9.5.0)\n",
      "Note: you may need to restart the kernel to use updated packages.\n"
     ]
    }
   ],
   "source": [
    "pip install pillow"
   ]
  },
  {
   "cell_type": "code",
   "execution_count": 2,
   "metadata": {},
   "outputs": [
    {
     "name": "stderr",
     "output_type": "stream",
     "text": [
      "<ipython-input-2-d2706451a8b9>:27: DeprecationWarning: textsize is deprecated and will be removed in Pillow 10 (2023-07-01). Use textbbox or textlength instead.\n",
      "  name_width, name_height = draw.textsize(company_name, font=font)\n",
      "<ipython-input-2-d2706451a8b9>:28: DeprecationWarning: textsize is deprecated and will be removed in Pillow 10 (2023-07-01). Use textbbox or textlength instead.\n",
      "  slogan_width, slogan_height = draw.textsize(slogan, font=font)\n"
     ]
    }
   ],
   "source": [
    "from PIL import Image, ImageDraw, ImageFont\n",
    "\n",
    "# Create a new image with a white background\n",
    "image = Image.new(\"RGB\", (600, 300), \"Blue\")\n",
    "\n",
    "# Load the background image\n",
    "background_image = Image.open(\"background_image.jpg\")\n",
    "background_image = background_image.resize((600, 300))\n",
    "\n",
    "# Paste the background image onto the main image\n",
    "image.paste(background_image, (0, 0))\n",
    "\n",
    "# Create an ImageDraw object\n",
    "draw = ImageDraw.Draw(image)\n",
    "\n",
    "# Load the default system font\n",
    "font = ImageFont.load_default()\n",
    "\n",
    "# Define the company name and slogan\n",
    "company_name = \"YOSHOPS\"\n",
    "slogan = \"BEST LEARNING AND SHOPPING PLATFORM\"\n",
    "\n",
    "# Set colors\n",
    "text_color = \"black\"\n",
    "\n",
    "# Calculate the width and height of the text\n",
    "name_width, name_height = draw.textsize(company_name, font=font)\n",
    "slogan_width, slogan_height = draw.textsize(slogan, font=font)\n",
    "\n",
    "# Calculate the position of the text\n",
    "name_position = ((800 - name_width) // 2, (400 - name_height - slogan_height) // 2)\n",
    "slogan_position = ((800 - slogan_width) // 2, (400 - slogan_height + name_height) // 2)\n",
    "\n",
    "# Draw the company name\n",
    "draw.text(name_position, company_name, font=font, fill=text_color)\n",
    "\n",
    "# Draw the slogan\n",
    "draw.text(slogan_position, slogan, font=font, fill=text_color)\n",
    "\n",
    "# Load and resize the company logo\n",
    "logo = Image.open(\"company_logo.png\").convert(\"RGBA\")\n",
    "logo = logo.resize((80, 100))\n",
    "\n",
    "# Paste the company logo onto the main image\n",
    "image.paste(logo, (20, 20), mask=logo)\n",
    "\n",
    "# Save the image\n",
    "image.save(\"company_image.png\")\n"
   ]
  },
  {
   "cell_type": "code",
   "execution_count": null,
   "metadata": {},
   "outputs": [],
   "source": []
  },
  {
   "cell_type": "code",
   "execution_count": null,
   "metadata": {},
   "outputs": [],
   "source": []
  }
 ],
 "metadata": {
  "kernelspec": {
   "display_name": "Python 3 (ipykernel)",
   "language": "python",
   "name": "python3"
  },
  "language_info": {
   "codemirror_mode": {
    "name": "ipython",
    "version": 3
   },
   "file_extension": ".py",
   "mimetype": "text/x-python",
   "name": "python",
   "nbconvert_exporter": "python",
   "pygments_lexer": "ipython3",
   "version": "3.10.9"
  }
 },
 "nbformat": 4,
 "nbformat_minor": 4
}
