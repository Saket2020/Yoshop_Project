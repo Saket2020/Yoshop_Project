{
 "cells": [
  {
   "cell_type": "code",
   "execution_count": 3,
   "metadata": {},
   "outputs": [
    {
     "name": "stdout",
     "output_type": "stream",
     "text": [
      "Collecting moviepy\n",
      "  Downloading moviepy-1.0.3.tar.gz (388 kB)\n",
      "Requirement already satisfied: decorator<5.0,>=4.0.2 in c:\\users\\91967\\anaconda3\\lib\\site-packages (from moviepy) (4.4.2)\n",
      "Requirement already satisfied: tqdm<5.0,>=4.11.2 in c:\\users\\91967\\anaconda3\\lib\\site-packages (from moviepy) (4.47.0)\n",
      "Requirement already satisfied: requests<3.0,>=2.8.1 in c:\\users\\91967\\anaconda3\\lib\\site-packages (from moviepy) (2.24.0)\n",
      "Collecting proglog<=1.0.0\n",
      "  Downloading proglog-0.1.10-py3-none-any.whl (6.1 kB)\n",
      "Requirement already satisfied: numpy>=1.17.3 in c:\\users\\91967\\anaconda3\\lib\\site-packages (from moviepy) (1.18.5)\n",
      "Requirement already satisfied: imageio<3.0,>=2.5 in c:\\users\\91967\\anaconda3\\lib\\site-packages (from moviepy) (2.9.0)\n",
      "Collecting imageio_ffmpeg>=0.2.0\n",
      "  Downloading imageio_ffmpeg-0.4.8-py3-none-win_amd64.whl (22.6 MB)\n",
      "Requirement already satisfied: chardet<4,>=3.0.2 in c:\\users\\91967\\anaconda3\\lib\\site-packages (from requests<3.0,>=2.8.1->moviepy) (3.0.4)\n",
      "Requirement already satisfied: idna<3,>=2.5 in c:\\users\\91967\\anaconda3\\lib\\site-packages (from requests<3.0,>=2.8.1->moviepy) (2.10)\n",
      "Requirement already satisfied: urllib3!=1.25.0,!=1.25.1,<1.26,>=1.21.1 in c:\\users\\91967\\anaconda3\\lib\\site-packages (from requests<3.0,>=2.8.1->moviepy) (1.25.9)\n",
      "Requirement already satisfied: certifi>=2017.4.17 in c:\\users\\91967\\anaconda3\\lib\\site-packages (from requests<3.0,>=2.8.1->moviepy) (2020.6.20)\n",
      "Requirement already satisfied: pillow in c:\\users\\91967\\anaconda3\\lib\\site-packages (from imageio<3.0,>=2.5->moviepy) (9.5.0)\n",
      "Building wheels for collected packages: moviepy\n",
      "  Building wheel for moviepy (setup.py): started\n",
      "  Building wheel for moviepy (setup.py): finished with status 'done'\n",
      "  Created wheel for moviepy: filename=moviepy-1.0.3-py3-none-any.whl size=110732 sha256=3f8ee6c9437a7db6bc3d50b5f60312e25651a8c5bbfdc1c2d202b8eaef466194\n",
      "  Stored in directory: c:\\users\\91967\\appdata\\local\\pip\\cache\\wheels\\e4\\a4\\db\\0368d3a04033da662e13926594b3a8cf1aa4ffeefe570cfac1\n",
      "Successfully built moviepy\n",
      "Installing collected packages: proglog, imageio-ffmpeg, moviepy\n",
      "Successfully installed imageio-ffmpeg-0.4.8 moviepy-1.0.3 proglog-0.1.10\n",
      "Note: you may need to restart the kernel to use updated packages.\n"
     ]
    }
   ],
   "source": [
    "pip install moviepy"
   ]
  },
  {
   "cell_type": "code",
   "execution_count": 1,
   "metadata": {},
   "outputs": [
    {
     "name": "stdout",
     "output_type": "stream",
     "text": [
      "Note: you may need to restart the kernel to use updated packages.\n"
     ]
    },
    {
     "name": "stderr",
     "output_type": "stream",
     "text": [
      "ERROR: Could not find a version that satisfies the requirement opencv (from versions: none)\n",
      "ERROR: No matching distribution found for opencv\n"
     ]
    }
   ],
   "source": [
    "pip install opencv"
   ]
  },
  {
   "cell_type": "code",
   "execution_count": 5,
   "metadata": {},
   "outputs": [
    {
     "name": "stderr",
     "output_type": "stream",
     "text": [
      "t:   1%|          | 12/1440 [00:00<00:13, 104.36it/s, now=None]"
     ]
    },
    {
     "name": "stdout",
     "output_type": "stream",
     "text": [
      "Moviepy - Building video data_science_video.mp4.\n",
      "Moviepy - Writing video data_science_video.mp4\n",
      "\n"
     ]
    },
    {
     "name": "stderr",
     "output_type": "stream",
     "text": [
      "                                                                 \r"
     ]
    },
    {
     "name": "stdout",
     "output_type": "stream",
     "text": [
      "Moviepy - Done !\n",
      "Moviepy - video ready data_science_video.mp4\n"
     ]
    }
   ],
   "source": [
    "import cv2\n",
    "from moviepy.editor import *\n",
    "\n",
    "# Define video duration in seconds\n",
    "video_duration = 20\n",
    "\n",
    "# Set the width and height of the video\n",
    "video_width = 1280\n",
    "video_height = 720\n",
    "\n",
    "# Create a list of image files\n",
    "image_files = ['image1.jpg', 'image2.jpg', 'image3.jpg']\n",
    "\n",
    "# Initialize an empty list to store VideoClips\n",
    "video_clips = []\n",
    "\n",
    "# Load each image file and convert it to a VideoClip\n",
    "for file in image_files:\n",
    "    img = cv2.imread(file)\n",
    "    img_resized = cv2.resize(img, (video_width, video_height))\n",
    "    image = ImageClip(img_resized)\n",
    "    video_clip = image.set_duration(video_duration)\n",
    "    video_clips.append(video_clip)\n",
    "\n",
    "# Concatenate the video clips into a single video\n",
    "final_clip = concatenate_videoclips(video_clips)\n",
    "\n",
    "# Set the video frame rate\n",
    "final_clip = final_clip.set_fps(24)\n",
    "\n",
    "# Write the final video to a file\n",
    "final_clip.write_videofile(\"data_science_video.mp4\", codec='libx264', fps=24)\n"
   ]
  },
  {
   "cell_type": "code",
   "execution_count": null,
   "metadata": {},
   "outputs": [],
   "source": []
  }
 ],
 "metadata": {
  "kernelspec": {
   "display_name": "Python 3 (ipykernel)",
   "language": "python",
   "name": "python3"
  },
  "language_info": {
   "codemirror_mode": {
    "name": "ipython",
    "version": 3
   },
   "file_extension": ".py",
   "mimetype": "text/x-python",
   "name": "python",
   "nbconvert_exporter": "python",
   "pygments_lexer": "ipython3",
   "version": "3.10.9"
  }
 },
 "nbformat": 4,
 "nbformat_minor": 4
}
