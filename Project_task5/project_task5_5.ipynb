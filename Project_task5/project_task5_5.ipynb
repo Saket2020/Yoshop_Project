{
  "nbformat": 4,
  "nbformat_minor": 0,
  "metadata": {
    "colab": {
      "provenance": []
    },
    "kernelspec": {
      "name": "python3",
      "display_name": "Python 3"
    },
    "language_info": {
      "name": "python"
    }
  },
  "cells": [
    {
      "cell_type": "code",
      "execution_count": null,
      "metadata": {
        "colab": {
          "base_uri": "https://localhost:8080/"
        },
        "id": "uhIi6qTmuihL",
        "outputId": "1bee5cd1-2ad5-452a-a37d-134b3f18b43f"
      },
      "outputs": [
        {
          "output_type": "stream",
          "name": "stdout",
          "text": [
            "Created offer_banner_1.jpg\n",
            "Created offer_banner_1.png\n",
            "Created offer_banner_2.jpg\n",
            "Created offer_banner_2.png\n",
            "Created offer_banner_3.jpg\n",
            "Created offer_banner_3.png\n",
            "Created offer_banner_4.jpg\n",
            "Created offer_banner_4.png\n"
          ]
        }
      ],
      "source": [
        "from PIL import Image, ImageDraw, ImageFont\n",
        "import os\n",
        "\n",
        "# Function to create an offer banner\n",
        "def create_offer_banner(text, background_color, text_color, font_path, output_path):\n",
        "    # Define banner dimensions\n",
        "    width = 1200\n",
        "    height = 600\n",
        "\n",
        "    # Create a new image with the specified background color\n",
        "    image = Image.new('RGB', (width, height), background_color)\n",
        "    draw = ImageDraw.Draw(image)\n",
        "\n",
        "    # Load a font\n",
        "    font = ImageFont.truetype(\"/content/Roboto-Regular.ttf\", size=60)\n",
        "\n",
        "    # Calculate the size of the text\n",
        "    text_width, text_height = draw.textsize(text, font=font)\n",
        "\n",
        "    # Calculate the position of the text\n",
        "    x = (width - text_width) // 2\n",
        "    y = (height - text_height) // 2\n",
        "\n",
        "    # Draw the text on the banner\n",
        "    draw.text((x, y), text, font=font, fill=text_color)\n",
        "\n",
        "    # Save the image\n",
        "    image.save(output_path)\n",
        "\n",
        "# Check if the font file exists; otherwise, download it\n",
        "font_path = '/content/Roboto-Regular.ttf'\n",
        "\n",
        "\n",
        "# Create the four offer banners and posters\n",
        "offer_texts = [\n",
        "    \"Join our Data Science Training Program!\",\n",
        "    \"Unlock the power of Data Science!\",\n",
        "    \"Become a Data Science expert today!\",\n",
        "    \"Boost your career with Data Science!\"\n",
        "]\n",
        "\n",
        "for i, offer_text in enumerate(offer_texts):\n",
        "    # Create JPG banner\n",
        "    jpg_output_path = f\"offer_banner_{i + 1}.jpg\"\n",
        "    create_offer_banner(offer_text, 'white', 'black', font_path, jpg_output_path)\n",
        "    print(f\"Created {jpg_output_path}\")\n",
        "\n",
        "    # Create PNG banner\n",
        "    png_output_path = f\"offer_banner_{i + 1}.png\"\n",
        "    create_offer_banner(offer_text, 'white', 'black', font_path, png_output_path)\n",
        "    print(f\"Created {png_output_path}\")\n"
      ]
    }
  ]
}