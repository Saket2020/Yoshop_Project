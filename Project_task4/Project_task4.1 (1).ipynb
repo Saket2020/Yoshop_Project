{
 "cells": [
  {
   "cell_type": "code",
   "execution_count": 1,
   "metadata": {},
   "outputs": [
    {
     "name": "stdout",
     "output_type": "stream",
     "text": [
      "Enter the website URL: https://yoshops.com/\n",
      "Missing images saved to missing_images.xlsx\n"
     ]
    }
   ],
   "source": [
    "import urllib.request\n",
    "from bs4 import BeautifulSoup\n",
    "import pandas as pd\n",
    "\n",
    "# Function to fetch webpage HTML content\n",
    "def fetch_html(url):\n",
    "    try:\n",
    "        with urllib.request.urlopen(url) as response:\n",
    "            html = response.read()\n",
    "        return html\n",
    "    except urllib.error.URLError as e:\n",
    "        print(\"Error accessing the webpage:\", e)\n",
    "        return None\n",
    "\n",
    "# Function to scrape product information from HTML\n",
    "def scrape_products(html, url):\n",
    "    products = []\n",
    "    soup = BeautifulSoup(html, 'html.parser')\n",
    "\n",
    "    # Find all product elements on the page\n",
    "    product_elements = soup.find_all('div', class_='product')\n",
    "\n",
    "    for product_element in product_elements:\n",
    "        product = {}\n",
    "\n",
    "        # Extract product name\n",
    "        name_element = product_element.find('h2', class_='product-name')\n",
    "        if name_element:\n",
    "            product['name'] = name_element.text.strip()\n",
    "        else:\n",
    "            product['name'] = 'N/A'  # Placeholder for missing name\n",
    "\n",
    "        # Extract product details\n",
    "        details_element = product_element.find('div', class_='product-details')\n",
    "        if details_element:\n",
    "            product['details'] = details_element.text.strip()\n",
    "        else:\n",
    "            product['details'] = 'N/A'  # Placeholder for missing details\n",
    "\n",
    "        # Extract product image\n",
    "        image_element = product_element.find('img', class_='product-image')\n",
    "        if image_element:\n",
    "            product['image'] = image_element['src']\n",
    "        else:\n",
    "            product['image'] = 'Missing Image'  # Indicator for missing image\n",
    "            # Save the link of the page with missing image\n",
    "            product['page_link'] = url  # Assuming the current page URL is relevant\n",
    "\n",
    "        products.append(product)\n",
    "\n",
    "    return products\n",
    "\n",
    "# Example usage\n",
    "input_value = input(\"Enter the website URL: \")\n",
    "html_content = fetch_html(input_value)\n",
    "\n",
    "if html_content:\n",
    "    products = scrape_products(html_content, input_value)\n",
    "\n",
    "    # Create DataFrame from the scraped products\n",
    "    df = pd.DataFrame(products, columns=['name', 'details', 'image', 'page_link'])\n",
    "\n",
    "    # Filter products with missing images\n",
    "    missing_images_df = df[df['image'] == 'Missing Image']\n",
    "\n",
    "    # Save the missing images DataFrame to an Excel file\n",
    "    output_file = 'missing_images.xlsx'\n",
    "    missing_images_df.to_excel(output_file, index=False)\n",
    "\n",
    "    print(\"Missing images saved to\", output_file)\n"
   ]
  },
  {
   "cell_type": "code",
   "execution_count": null,
   "metadata": {},
   "outputs": [],
   "source": []
  }
 ],
 "metadata": {
  "kernelspec": {
   "display_name": "Python 3 (ipykernel)",
   "language": "python",
   "name": "python3"
  },
  "language_info": {
   "codemirror_mode": {
    "name": "ipython",
    "version": 3
   },
   "file_extension": ".py",
   "mimetype": "text/x-python",
   "name": "python",
   "nbconvert_exporter": "python",
   "pygments_lexer": "ipython3",
   "version": "3.10.9"
  }
 },
 "nbformat": 4,
 "nbformat_minor": 4
}
