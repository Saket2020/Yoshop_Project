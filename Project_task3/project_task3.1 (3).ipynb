{
 "cells": [
  {
   "cell_type": "code",
   "execution_count": 1,
   "metadata": {},
   "outputs": [
    {
     "name": "stdout",
     "output_type": "stream",
     "text": [
      "Enter the website URL: https://yoshops.com/t/seafood\n",
      "Results saved to product_pages_with_missing_images.xlsx\n"
     ]
    }
   ],
   "source": [
    "import urllib.request\n",
    "from bs4 import BeautifulSoup\n",
    "from openpyxl import Workbook\n",
    "\n",
    "# Function to check if product image is missing on a page\n",
    "def is_product_image_missing(url):\n",
    "    try:\n",
    "        with urllib.request.urlopen(url) as response:\n",
    "            page_html = response.read()\n",
    "            soup = BeautifulSoup(page_html, 'html.parser')\n",
    "            product_image = soup.find('img', class_='product-image')\n",
    "            if not product_image:\n",
    "                return True\n",
    "    except:\n",
    "        return True\n",
    "    \n",
    "    return False\n",
    "\n",
    "# Function to scrape the website and find product pages with missing images\n",
    "def find_product_pages_with_missing_images(website_url):\n",
    "    product_pages = []\n",
    "    \n",
    "    try:\n",
    "        with urllib.request.urlopen(website_url) as response:\n",
    "            page_html = response.read()\n",
    "            soup = BeautifulSoup(page_html, 'html.parser')\n",
    "            \n",
    "            # Find all product links on the website\n",
    "            product_links = soup.find_all('a', class_='product-link')\n",
    "            \n",
    "            for link in product_links:\n",
    "                product_url = link['href']\n",
    "                \n",
    "                # Check if product image is missing\n",
    "                if is_product_image_missing(product_url):\n",
    "                    product_pages.append(product_url)\n",
    "    except:\n",
    "        print(\"Error accessing the website.\")\n",
    "    \n",
    "    return product_pages\n",
    "\n",
    "# Function to save the results to an Excel file\n",
    "def save_to_excel(product_pages):\n",
    "    wb = Workbook()\n",
    "    ws = wb.active\n",
    "    ws.append(['Web URL', 'Product Name', 'Product Details', 'Contact No.', 'Address'])\n",
    "    \n",
    "    for url in product_pages:\n",
    "        # Here, you can extract other details like product name, details, contact no., address from the product page\n",
    "        # and add them to the corresponding columns in the Excel file\n",
    "        ws.append([url, '', '', '', ''])\n",
    "    \n",
    "    # Save the Excel file\n",
    "    wb.save('product_pages_with_missing_images.xlsx')\n",
    "    print(\"Results saved to product_pages_with_missing_images.xlsx\")\n",
    "\n",
    "# Main program\n",
    "if __name__ == '__main__':\n",
    "    website_url = input(\"Enter the website URL: \")\n",
    "    product_pages = find_product_pages_with_missing_images(website_url)\n",
    "    save_to_excel(product_pages)\n"
   ]
  },
  {
   "cell_type": "code",
   "execution_count": null,
   "metadata": {},
   "outputs": [],
   "source": []
  },
  {
   "cell_type": "code",
   "execution_count": null,
   "metadata": {},
   "outputs": [],
   "source": []
  }
 ],
 "metadata": {
  "kernelspec": {
   "display_name": "Python 3 (ipykernel)",
   "language": "python",
   "name": "python3"
  },
  "language_info": {
   "codemirror_mode": {
    "name": "ipython",
    "version": 3
   },
   "file_extension": ".py",
   "mimetype": "text/x-python",
   "name": "python",
   "nbconvert_exporter": "python",
   "pygments_lexer": "ipython3",
   "version": "3.10.9"
  }
 },
 "nbformat": 4,
 "nbformat_minor": 4
}
